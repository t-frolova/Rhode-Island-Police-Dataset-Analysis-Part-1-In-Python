{
 "cells": [
  {
   "cell_type": "markdown",
   "id": "f9b922e7",
   "metadata": {},
   "source": [
    "### Tatiana Frolova\n",
    "###                                                    Rhode Island Police Report"
   ]
  },
  {
   "cell_type": "markdown",
   "id": "e186e16a",
   "metadata": {},
   "source": [
    "### Questions:\n",
    "Questions:\n",
    "\n",
    "1. Do the genders commit different violations?\n",
    "\n",
    "2. Does gender affect who gets a ticket for speeding? Comparing speeding outcomes by gender?\n",
    "\n",
    "3. Does gender affect whose vehicle is searched? Comparing search rates by gender?\n",
    "\n",
    "4. Does gender affect whose vehicle was being stopped relater to drugs?\n",
    "\n",
    "5. Distributions of overall stop outcomes by each year in order to see if traffic violation is increasing over the years of study, in order to see if traffic violations were increased through years of study.\n",
    "\n",
    "6. How does the time of the day affect stop outcomes? in other words is there a specific time of the day with a high volume of traffic violations?\n",
    "\n",
    "7. How does the day of the week affect stop outcomes, in other words on which day of the week do drives commit more traffic violations?\n",
    "\n",
    "8. Distribution of stop outcomes by month of the year by summarizing total outcomes by each month of each year."
   ]
  },
  {
   "cell_type": "markdown",
   "id": "330bd110",
   "metadata": {},
   "source": [
    "### Code "
   ]
  },
  {
   "cell_type": "code",
   "execution_count": 1,
   "id": "7ae30862",
   "metadata": {},
   "outputs": [],
   "source": [
    "# Import libraries\n",
    "import pandas as pd\n",
    "import numpy as np\n",
    "import matplotlib.pyplot as plt\n",
    "import seaborn as sns"
   ]
  },
  {
   "cell_type": "markdown",
   "id": "1454430a",
   "metadata": {},
   "source": [
    "#### General data characteristics"
   ]
  },
  {
   "cell_type": "code",
   "execution_count": 8,
   "id": "8776eb3c",
   "metadata": {
    "scrolled": false
   },
   "outputs": [
    {
     "data": {
      "text/html": [
       "<div>\n",
       "<style scoped>\n",
       "    .dataframe tbody tr th:only-of-type {\n",
       "        vertical-align: middle;\n",
       "    }\n",
       "\n",
       "    .dataframe tbody tr th {\n",
       "        vertical-align: top;\n",
       "    }\n",
       "\n",
       "    .dataframe thead th {\n",
       "        text-align: right;\n",
       "    }\n",
       "</style>\n",
       "<table border=\"1\" class=\"dataframe\">\n",
       "  <thead>\n",
       "    <tr style=\"text-align: right;\">\n",
       "      <th></th>\n",
       "      <th>state</th>\n",
       "      <th>stop_date</th>\n",
       "      <th>stop_time</th>\n",
       "      <th>county_name</th>\n",
       "      <th>driver_gender</th>\n",
       "      <th>driver_race</th>\n",
       "      <th>violation_raw</th>\n",
       "      <th>violation</th>\n",
       "      <th>search_conducted</th>\n",
       "      <th>search_type</th>\n",
       "      <th>stop_outcome</th>\n",
       "      <th>is_arrested</th>\n",
       "      <th>stop_duration</th>\n",
       "      <th>drugs_related_stop</th>\n",
       "      <th>district</th>\n",
       "    </tr>\n",
       "  </thead>\n",
       "  <tbody>\n",
       "    <tr>\n",
       "      <th>0</th>\n",
       "      <td>RI</td>\n",
       "      <td>1/4/2005</td>\n",
       "      <td>12:55</td>\n",
       "      <td>NaN</td>\n",
       "      <td>M</td>\n",
       "      <td>White</td>\n",
       "      <td>Equipment/Inspection Violation</td>\n",
       "      <td>Equipment</td>\n",
       "      <td>False</td>\n",
       "      <td>NaN</td>\n",
       "      <td>Citation</td>\n",
       "      <td>False</td>\n",
       "      <td>0-15 Min</td>\n",
       "      <td>False</td>\n",
       "      <td>Zone X4</td>\n",
       "    </tr>\n",
       "    <tr>\n",
       "      <th>1</th>\n",
       "      <td>RI</td>\n",
       "      <td>1/23/2005</td>\n",
       "      <td>23:15</td>\n",
       "      <td>NaN</td>\n",
       "      <td>M</td>\n",
       "      <td>White</td>\n",
       "      <td>Speeding</td>\n",
       "      <td>Speeding</td>\n",
       "      <td>False</td>\n",
       "      <td>NaN</td>\n",
       "      <td>Citation</td>\n",
       "      <td>False</td>\n",
       "      <td>0-15 Min</td>\n",
       "      <td>False</td>\n",
       "      <td>Zone K3</td>\n",
       "    </tr>\n",
       "    <tr>\n",
       "      <th>2</th>\n",
       "      <td>RI</td>\n",
       "      <td>2/17/2005</td>\n",
       "      <td>4:15</td>\n",
       "      <td>NaN</td>\n",
       "      <td>M</td>\n",
       "      <td>White</td>\n",
       "      <td>Speeding</td>\n",
       "      <td>Speeding</td>\n",
       "      <td>False</td>\n",
       "      <td>NaN</td>\n",
       "      <td>Citation</td>\n",
       "      <td>False</td>\n",
       "      <td>0-15 Min</td>\n",
       "      <td>False</td>\n",
       "      <td>Zone X4</td>\n",
       "    </tr>\n",
       "    <tr>\n",
       "      <th>3</th>\n",
       "      <td>RI</td>\n",
       "      <td>2/20/2005</td>\n",
       "      <td>17:15</td>\n",
       "      <td>NaN</td>\n",
       "      <td>M</td>\n",
       "      <td>White</td>\n",
       "      <td>Call for Service</td>\n",
       "      <td>Other</td>\n",
       "      <td>False</td>\n",
       "      <td>NaN</td>\n",
       "      <td>Arrest Driver</td>\n",
       "      <td>True</td>\n",
       "      <td>16-30 Min</td>\n",
       "      <td>False</td>\n",
       "      <td>Zone X1</td>\n",
       "    </tr>\n",
       "    <tr>\n",
       "      <th>4</th>\n",
       "      <td>RI</td>\n",
       "      <td>2/24/2005</td>\n",
       "      <td>1:20</td>\n",
       "      <td>NaN</td>\n",
       "      <td>F</td>\n",
       "      <td>White</td>\n",
       "      <td>Speeding</td>\n",
       "      <td>Speeding</td>\n",
       "      <td>False</td>\n",
       "      <td>NaN</td>\n",
       "      <td>Citation</td>\n",
       "      <td>False</td>\n",
       "      <td>0-15 Min</td>\n",
       "      <td>False</td>\n",
       "      <td>Zone X3</td>\n",
       "    </tr>\n",
       "    <tr>\n",
       "      <th>...</th>\n",
       "      <td>...</td>\n",
       "      <td>...</td>\n",
       "      <td>...</td>\n",
       "      <td>...</td>\n",
       "      <td>...</td>\n",
       "      <td>...</td>\n",
       "      <td>...</td>\n",
       "      <td>...</td>\n",
       "      <td>...</td>\n",
       "      <td>...</td>\n",
       "      <td>...</td>\n",
       "      <td>...</td>\n",
       "      <td>...</td>\n",
       "      <td>...</td>\n",
       "      <td>...</td>\n",
       "    </tr>\n",
       "    <tr>\n",
       "      <th>91736</th>\n",
       "      <td>RI</td>\n",
       "      <td>12/31/2015</td>\n",
       "      <td>21:21</td>\n",
       "      <td>NaN</td>\n",
       "      <td>F</td>\n",
       "      <td>Black</td>\n",
       "      <td>Other Traffic Violation</td>\n",
       "      <td>Moving violation</td>\n",
       "      <td>False</td>\n",
       "      <td>NaN</td>\n",
       "      <td>Citation</td>\n",
       "      <td>False</td>\n",
       "      <td>0-15 Min</td>\n",
       "      <td>False</td>\n",
       "      <td>Zone K2</td>\n",
       "    </tr>\n",
       "    <tr>\n",
       "      <th>91737</th>\n",
       "      <td>RI</td>\n",
       "      <td>12/31/2015</td>\n",
       "      <td>21:59</td>\n",
       "      <td>NaN</td>\n",
       "      <td>F</td>\n",
       "      <td>White</td>\n",
       "      <td>Speeding</td>\n",
       "      <td>Speeding</td>\n",
       "      <td>False</td>\n",
       "      <td>NaN</td>\n",
       "      <td>Citation</td>\n",
       "      <td>False</td>\n",
       "      <td>0-15 Min</td>\n",
       "      <td>False</td>\n",
       "      <td>Zone K3</td>\n",
       "    </tr>\n",
       "    <tr>\n",
       "      <th>91738</th>\n",
       "      <td>RI</td>\n",
       "      <td>12/31/2015</td>\n",
       "      <td>22:04</td>\n",
       "      <td>NaN</td>\n",
       "      <td>M</td>\n",
       "      <td>White</td>\n",
       "      <td>Other Traffic Violation</td>\n",
       "      <td>Moving violation</td>\n",
       "      <td>False</td>\n",
       "      <td>NaN</td>\n",
       "      <td>Citation</td>\n",
       "      <td>False</td>\n",
       "      <td>0-15 Min</td>\n",
       "      <td>False</td>\n",
       "      <td>Zone X3</td>\n",
       "    </tr>\n",
       "    <tr>\n",
       "      <th>91739</th>\n",
       "      <td>RI</td>\n",
       "      <td>12/31/2015</td>\n",
       "      <td>22:09</td>\n",
       "      <td>NaN</td>\n",
       "      <td>F</td>\n",
       "      <td>Hispanic</td>\n",
       "      <td>Equipment/Inspection Violation</td>\n",
       "      <td>Equipment</td>\n",
       "      <td>False</td>\n",
       "      <td>NaN</td>\n",
       "      <td>Warning</td>\n",
       "      <td>False</td>\n",
       "      <td>0-15 Min</td>\n",
       "      <td>False</td>\n",
       "      <td>Zone K3</td>\n",
       "    </tr>\n",
       "    <tr>\n",
       "      <th>91740</th>\n",
       "      <td>RI</td>\n",
       "      <td>12/31/2015</td>\n",
       "      <td>22:47</td>\n",
       "      <td>NaN</td>\n",
       "      <td>M</td>\n",
       "      <td>White</td>\n",
       "      <td>Registration Violation</td>\n",
       "      <td>Registration/plates</td>\n",
       "      <td>False</td>\n",
       "      <td>NaN</td>\n",
       "      <td>Citation</td>\n",
       "      <td>False</td>\n",
       "      <td>0-15 Min</td>\n",
       "      <td>False</td>\n",
       "      <td>Zone X4</td>\n",
       "    </tr>\n",
       "  </tbody>\n",
       "</table>\n",
       "<p>91741 rows × 15 columns</p>\n",
       "</div>"
      ],
      "text/plain": [
       "      state   stop_date stop_time  county_name driver_gender driver_race  \\\n",
       "0        RI    1/4/2005     12:55          NaN             M       White   \n",
       "1        RI   1/23/2005     23:15          NaN             M       White   \n",
       "2        RI   2/17/2005      4:15          NaN             M       White   \n",
       "3        RI   2/20/2005     17:15          NaN             M       White   \n",
       "4        RI   2/24/2005      1:20          NaN             F       White   \n",
       "...     ...         ...       ...          ...           ...         ...   \n",
       "91736    RI  12/31/2015     21:21          NaN             F       Black   \n",
       "91737    RI  12/31/2015     21:59          NaN             F       White   \n",
       "91738    RI  12/31/2015     22:04          NaN             M       White   \n",
       "91739    RI  12/31/2015     22:09          NaN             F    Hispanic   \n",
       "91740    RI  12/31/2015     22:47          NaN             M       White   \n",
       "\n",
       "                        violation_raw            violation  search_conducted  \\\n",
       "0      Equipment/Inspection Violation            Equipment             False   \n",
       "1                            Speeding             Speeding             False   \n",
       "2                            Speeding             Speeding             False   \n",
       "3                    Call for Service                Other             False   \n",
       "4                            Speeding             Speeding             False   \n",
       "...                               ...                  ...               ...   \n",
       "91736         Other Traffic Violation     Moving violation             False   \n",
       "91737                        Speeding             Speeding             False   \n",
       "91738         Other Traffic Violation     Moving violation             False   \n",
       "91739  Equipment/Inspection Violation            Equipment             False   \n",
       "91740          Registration Violation  Registration/plates             False   \n",
       "\n",
       "      search_type   stop_outcome is_arrested stop_duration  \\\n",
       "0             NaN       Citation       False      0-15 Min   \n",
       "1             NaN       Citation       False      0-15 Min   \n",
       "2             NaN       Citation       False      0-15 Min   \n",
       "3             NaN  Arrest Driver        True     16-30 Min   \n",
       "4             NaN       Citation       False      0-15 Min   \n",
       "...           ...            ...         ...           ...   \n",
       "91736         NaN       Citation       False      0-15 Min   \n",
       "91737         NaN       Citation       False      0-15 Min   \n",
       "91738         NaN       Citation       False      0-15 Min   \n",
       "91739         NaN        Warning       False      0-15 Min   \n",
       "91740         NaN       Citation       False      0-15 Min   \n",
       "\n",
       "       drugs_related_stop district  \n",
       "0                   False  Zone X4  \n",
       "1                   False  Zone K3  \n",
       "2                   False  Zone X4  \n",
       "3                   False  Zone X1  \n",
       "4                   False  Zone X3  \n",
       "...                   ...      ...  \n",
       "91736               False  Zone K2  \n",
       "91737               False  Zone K3  \n",
       "91738               False  Zone X3  \n",
       "91739               False  Zone K3  \n",
       "91740               False  Zone X4  \n",
       "\n",
       "[91741 rows x 15 columns]"
      ]
     },
     "execution_count": 8,
     "metadata": {},
     "output_type": "execute_result"
    }
   ],
   "source": [
    "# Data Police\n",
    "police = pd.read_csv(\"police.csv\")\n",
    "police"
   ]
  },
  {
   "cell_type": "code",
   "execution_count": 39,
   "id": "5b745e08",
   "metadata": {},
   "outputs": [
    {
     "data": {
      "text/plain": [
       "state                     0\n",
       "stop_date                 0\n",
       "stop_time                 0\n",
       "county_name           91741\n",
       "driver_gender          5205\n",
       "driver_race            5202\n",
       "violation_raw          5202\n",
       "violation              5202\n",
       "search_conducted          0\n",
       "search_type           88434\n",
       "stop_outcome           5202\n",
       "is_arrested            5202\n",
       "stop_duration          5202\n",
       "drugs_related_stop        0\n",
       "district                  0\n",
       "dtype: int64"
      ]
     },
     "execution_count": 39,
     "metadata": {},
     "output_type": "execute_result"
    }
   ],
   "source": [
    "#check for null vbalues example\n",
    "police.isnull().sum()"
   ]
  },
  {
   "cell_type": "code",
   "execution_count": 40,
   "id": "98d88cd6",
   "metadata": {},
   "outputs": [
    {
     "data": {
      "text/plain": [
       "(91741, 15)"
      ]
     },
     "execution_count": 40,
     "metadata": {},
     "output_type": "execute_result"
    }
   ],
   "source": [
    "# Data Shape\n",
    "police.shape"
   ]
  },
  {
   "cell_type": "code",
   "execution_count": 10,
   "id": "d81a7963",
   "metadata": {},
   "outputs": [
    {
     "data": {
      "text/html": [
       "<div>\n",
       "<style scoped>\n",
       "    .dataframe tbody tr th:only-of-type {\n",
       "        vertical-align: middle;\n",
       "    }\n",
       "\n",
       "    .dataframe tbody tr th {\n",
       "        vertical-align: top;\n",
       "    }\n",
       "\n",
       "    .dataframe thead th {\n",
       "        text-align: right;\n",
       "    }\n",
       "</style>\n",
       "<table border=\"1\" class=\"dataframe\">\n",
       "  <thead>\n",
       "    <tr style=\"text-align: right;\">\n",
       "      <th></th>\n",
       "      <th>state</th>\n",
       "      <th>stop_date</th>\n",
       "      <th>stop_time</th>\n",
       "      <th>driver_gender</th>\n",
       "      <th>driver_race</th>\n",
       "      <th>violation_raw</th>\n",
       "      <th>violation</th>\n",
       "      <th>search_type</th>\n",
       "      <th>stop_outcome</th>\n",
       "      <th>is_arrested</th>\n",
       "      <th>stop_duration</th>\n",
       "      <th>district</th>\n",
       "    </tr>\n",
       "  </thead>\n",
       "  <tbody>\n",
       "    <tr>\n",
       "      <th>count</th>\n",
       "      <td>91741</td>\n",
       "      <td>91741</td>\n",
       "      <td>91741</td>\n",
       "      <td>86536</td>\n",
       "      <td>86539</td>\n",
       "      <td>86539</td>\n",
       "      <td>86539</td>\n",
       "      <td>3307</td>\n",
       "      <td>86539</td>\n",
       "      <td>86539</td>\n",
       "      <td>86539</td>\n",
       "      <td>91741</td>\n",
       "    </tr>\n",
       "    <tr>\n",
       "      <th>unique</th>\n",
       "      <td>1</td>\n",
       "      <td>3757</td>\n",
       "      <td>1431</td>\n",
       "      <td>2</td>\n",
       "      <td>5</td>\n",
       "      <td>12</td>\n",
       "      <td>6</td>\n",
       "      <td>25</td>\n",
       "      <td>6</td>\n",
       "      <td>2</td>\n",
       "      <td>3</td>\n",
       "      <td>6</td>\n",
       "    </tr>\n",
       "    <tr>\n",
       "      <th>top</th>\n",
       "      <td>RI</td>\n",
       "      <td>2007-05-16</td>\n",
       "      <td>11:00</td>\n",
       "      <td>M</td>\n",
       "      <td>White</td>\n",
       "      <td>Speeding</td>\n",
       "      <td>Speeding</td>\n",
       "      <td>Incident to Arrest</td>\n",
       "      <td>Citation</td>\n",
       "      <td>False</td>\n",
       "      <td>0-15 Min</td>\n",
       "      <td>Zone X4</td>\n",
       "    </tr>\n",
       "    <tr>\n",
       "      <th>freq</th>\n",
       "      <td>91741</td>\n",
       "      <td>63</td>\n",
       "      <td>358</td>\n",
       "      <td>62762</td>\n",
       "      <td>61872</td>\n",
       "      <td>48424</td>\n",
       "      <td>48424</td>\n",
       "      <td>1290</td>\n",
       "      <td>77092</td>\n",
       "      <td>83461</td>\n",
       "      <td>69579</td>\n",
       "      <td>24279</td>\n",
       "    </tr>\n",
       "  </tbody>\n",
       "</table>\n",
       "</div>"
      ],
      "text/plain": [
       "        state   stop_date stop_time driver_gender driver_race violation_raw  \\\n",
       "count   91741       91741     91741         86536       86539         86539   \n",
       "unique      1        3757      1431             2           5            12   \n",
       "top        RI  2007-05-16     11:00             M       White      Speeding   \n",
       "freq    91741          63       358         62762       61872         48424   \n",
       "\n",
       "       violation         search_type stop_outcome is_arrested stop_duration  \\\n",
       "count      86539                3307        86539       86539         86539   \n",
       "unique         6                  25            6           2             3   \n",
       "top     Speeding  Incident to Arrest     Citation       False      0-15 Min   \n",
       "freq       48424                1290        77092       83461         69579   \n",
       "\n",
       "       district  \n",
       "count     91741  \n",
       "unique        6  \n",
       "top     Zone X4  \n",
       "freq      24279  "
      ]
     },
     "execution_count": 10,
     "metadata": {},
     "output_type": "execute_result"
    }
   ],
   "source": [
    "# check data summary\n",
    "police.describe(include = [\"object\"])"
   ]
  },
  {
   "cell_type": "code",
   "execution_count": 6,
   "id": "87ed294b",
   "metadata": {},
   "outputs": [
    {
     "name": "stdout",
     "output_type": "stream",
     "text": [
      "<class 'pandas.core.frame.DataFrame'>\n",
      "RangeIndex: 91741 entries, 0 to 91740\n",
      "Data columns (total 15 columns):\n",
      " #   Column              Non-Null Count  Dtype  \n",
      "---  ------              --------------  -----  \n",
      " 0   state               91741 non-null  object \n",
      " 1   stop_date           91741 non-null  object \n",
      " 2   stop_time           91741 non-null  object \n",
      " 3   county_name         0 non-null      float64\n",
      " 4   driver_gender       86536 non-null  object \n",
      " 5   driver_race         86539 non-null  object \n",
      " 6   violation_raw       86539 non-null  object \n",
      " 7   violation           86539 non-null  object \n",
      " 8   search_conducted    91741 non-null  bool   \n",
      " 9   search_type         3307 non-null   object \n",
      " 10  stop_outcome        86539 non-null  object \n",
      " 11  is_arrested         86539 non-null  object \n",
      " 12  stop_duration       86539 non-null  object \n",
      " 13  drugs_related_stop  91741 non-null  bool   \n",
      " 14  district            91741 non-null  object \n",
      "dtypes: bool(2), float64(1), object(12)\n",
      "memory usage: 9.3+ MB\n"
     ]
    }
   ],
   "source": [
    "# General info\n",
    "police.info()"
   ]
  },
  {
   "cell_type": "code",
   "execution_count": 18,
   "id": "5f9a0459",
   "metadata": {
    "scrolled": true
   },
   "outputs": [
    {
     "data": {
      "text/plain": [
       "state                  object\n",
       "stop_date              object\n",
       "stop_time              object\n",
       "county_name           float64\n",
       "driver_gender          object\n",
       "driver_race            object\n",
       "violation_raw          object\n",
       "violation              object\n",
       "search_conducted         bool\n",
       "search_type            object\n",
       "stop_outcome           object\n",
       "is_arrested            object\n",
       "stop_duration          object\n",
       "drugs_related_stop       bool\n",
       "district               object\n",
       "dtype: object"
      ]
     },
     "execution_count": 18,
     "metadata": {},
     "output_type": "execute_result"
    }
   ],
   "source": [
    "# Data Type\n",
    "police.dtypes"
   ]
  },
  {
   "cell_type": "code",
   "execution_count": 57,
   "id": "53b402ae",
   "metadata": {},
   "outputs": [
    {
     "data": {
      "text/plain": [
       "Index(['state', 'stop_date', 'stop_time', 'county_name', 'driver_gender',\n",
       "       'driver_race', 'violation_raw', 'violation', 'search_conducted',\n",
       "       'search_type', 'stop_outcome', 'is_arrested', 'stop_duration',\n",
       "       'drugs_related_stop', 'district'],\n",
       "      dtype='object')"
      ]
     },
     "execution_count": 57,
     "metadata": {},
     "output_type": "execute_result"
    }
   ],
   "source": [
    "# Colomns Display\n",
    "police.columns"
   ]
  },
  {
   "cell_type": "code",
   "execution_count": 58,
   "id": "c353e215",
   "metadata": {},
   "outputs": [
    {
     "data": {
      "text/plain": [
       "1376115"
      ]
     },
     "execution_count": 58,
     "metadata": {},
     "output_type": "execute_result"
    }
   ],
   "source": [
    "# Data Size\n",
    "police.size"
   ]
  },
  {
   "cell_type": "markdown",
   "id": "5808571e",
   "metadata": {},
   "source": [
    "### General data outcomes"
   ]
  },
  {
   "cell_type": "code",
   "execution_count": 59,
   "id": "13ee8d94",
   "metadata": {},
   "outputs": [
    {
     "data": {
      "text/plain": [
       "M    62762\n",
       "F    23774\n",
       "Name: driver_gender, dtype: int64"
      ]
     },
     "execution_count": 59,
     "metadata": {},
     "output_type": "execute_result"
    }
   ],
   "source": [
    "# Violations by gender\n",
    "police[\"driver_gender\"].value_counts()"
   ]
  },
  {
   "cell_type": "code",
   "execution_count": 114,
   "id": "f628f90d",
   "metadata": {},
   "outputs": [
    {
     "data": {
      "image/png": "[encoded data removed]",
      "text/plain": [
       "<Figure size 640x480 with 1 Axes>"
      ]
     },
     "metadata": {},
     "output_type": "display_data"
    }
   ],
   "source": [
    "# Violations by gender vizualization\n",
    "police[\"driver_gender\"].value_counts().plot(kind = \"pie\", colors = [\"Blue\", \"Red\"], title = \"Overall Stops By Gender\")\n",
    "plt.legend([\"Male\", \"Female\"])\n",
    "plt.show()"
   ]
  },
  {
   "cell_type": "code",
   "execution_count": 60,
   "id": "05ebe65e",
   "metadata": {},
   "outputs": [
    {
     "data": {
      "text/plain": [
       "White       61872\n",
       "Black       12285\n",
       "Hispanic     9727\n",
       "Asian        2390\n",
       "Other         265\n",
       "Name: driver_race, dtype: int64"
      ]
     },
     "execution_count": 60,
     "metadata": {},
     "output_type": "execute_result"
    }
   ],
   "source": [
    "# Violation by race\n",
    "police[\"driver_race\"].value_counts()"
   ]
  },
  {
   "cell_type": "code",
   "execution_count": 107,
   "id": "85bec389",
   "metadata": {},
   "outputs": [
    {
     "data": {
      "image/png": "[encoded data removed]",
      "text/plain": [
       "<Figure size 640x480 with 1 Axes>"
      ]
     },
     "metadata": {},
     "output_type": "display_data"
    }
   ],
   "source": [
    "# Violation by race vizualization\n",
    "police[\"driver_race\"].value_counts().plot(kind = \"bar\", color = \"Blue\", title = \" Violation By Race\")\n",
    "plt.xlabel(\"Race\")\n",
    "plt.ylabel(\"Stop Count\")\n",
    "plt.show()"
   ]
  },
  {
   "cell_type": "code",
   "execution_count": 11,
   "id": "b1c664fd",
   "metadata": {},
   "outputs": [
    {
     "data": {
      "text/plain": [
       "Citation            77092\n",
       "Warning              5137\n",
       "Arrest Driver        2735\n",
       "No Action             625\n",
       "N/D                   607\n",
       "Arrest Passenger      343\n",
       "Name: stop_outcome, dtype: int64"
      ]
     },
     "execution_count": 11,
     "metadata": {},
     "output_type": "execute_result"
    }
   ],
   "source": [
    "# Stop outcomes\n",
    "police[\"stop_outcome\"].value_counts()"
   ]
  },
  {
   "cell_type": "code",
   "execution_count": 26,
   "id": "64e737c9",
   "metadata": {},
   "outputs": [
    {
     "data": {
      "image/png": "[encoded data removed]",
      "text/plain": [
       "<Figure size 640x480 with 1 Axes>"
      ]
     },
     "metadata": {},
     "output_type": "display_data"
    }
   ],
   "source": [
    "# Stop outcomes vizualization\n",
    "police[\"stop_outcome\"].value_counts().plot(kind = \"bar\", color = \"Blue\", title = \" Stop Outcomes\")\n",
    "plt.xlabel(\"Stop Outcomes Type\")\n",
    "plt.ylabel(\"Stop Outcomes Count\")\n",
    "plt.legend()\n",
    "plt.show()"
   ]
  },
  {
   "cell_type": "code",
   "execution_count": 27,
   "id": "cf9d68f1",
   "metadata": {},
   "outputs": [
    {
     "data": {
      "text/plain": [
       "0-15 Min     69579\n",
       "16-30 Min    13740\n",
       "30+ Min       3220\n",
       "Name: stop_duration, dtype: int64"
      ]
     },
     "execution_count": 27,
     "metadata": {},
     "output_type": "execute_result"
    }
   ],
   "source": [
    "# Stop duration times\n",
    "police[\"stop_duration\"].value_counts()"
   ]
  },
  {
   "cell_type": "code",
   "execution_count": 35,
   "id": "a747a516",
   "metadata": {},
   "outputs": [
    {
     "data": {
      "image/png": "[encoded data removed]",
      "text/plain": [
       "<Figure size 640x480 with 1 Axes>"
      ]
     },
     "metadata": {},
     "output_type": "display_data"
    }
   ],
   "source": [
    "# Stop duration times vizualization\n",
    "police[\"stop_duration\"].value_counts().plot(kind = \"pie\", title = \"Stop Duration Time\", colors = [\"Blue\", \"Orange\", \"Green\"])\n",
    "plt.legend(loc = \"upper right\", shadow = True, frameon = True, facecolor = \"White\")\n",
    "plt.show()"
   ]
  },
  {
   "cell_type": "code",
   "execution_count": 21,
   "id": "f7774a9a",
   "metadata": {},
   "outputs": [
    {
     "data": {
      "text/plain": [
       "2007-05-16    63\n",
       "2011-09-03    62\n",
       "2005-11-04    59\n",
       "2006-01-09    59\n",
       "2007-01-04    57\n",
       "              ..\n",
       "2005-12-25     1\n",
       "2005-01-23     1\n",
       "2011-01-12     1\n",
       "2010-12-25     1\n",
       "2005-01-04     1\n",
       "Name: stop_date, Length: 3757, dtype: int64"
      ]
     },
     "execution_count": 21,
     "metadata": {},
     "output_type": "execute_result"
    }
   ],
   "source": [
    "# Most common date of stops\n",
    "commonDay = police[\"stop_date\"].dt.date.value_counts()\n",
    "commonDay"
   ]
  },
  {
   "cell_type": "markdown",
   "id": "fd047ece",
   "metadata": {},
   "source": [
    "#### Question 1. How many different violations were committed by different gender?"
   ]
  },
  {
   "cell_type": "code",
   "execution_count": 36,
   "id": "490ea021",
   "metadata": {},
   "outputs": [],
   "source": [
    "# New dataFrame\n",
    "data1 = police[[\"driver_gender\", \"violation\"]]"
   ]
  },
  {
   "cell_type": "code",
   "execution_count": 43,
   "id": "e3b5f5a0",
   "metadata": {
    "scrolled": true
   },
   "outputs": [
    {
     "data": {
      "text/plain": [
       "violation            driver_gender\n",
       "Equipment            M                 8420\n",
       "                     F                 2501\n",
       "Moving violation     M                12938\n",
       "                     F                 3286\n",
       "Other                M                 3702\n",
       "                     F                  707\n",
       "Registration/plates  M                 2647\n",
       "                     F                 1056\n",
       "Seat belt            M                 2278\n",
       "                     F                  578\n",
       "Speeding             M                32777\n",
       "                     F                15646\n",
       "Name: driver_gender, dtype: int64"
      ]
     },
     "execution_count": 43,
     "metadata": {},
     "output_type": "execute_result"
    }
   ],
   "source": [
    "# General data, different violations by gender\n",
    "dataGroupby = data1.groupby(\"violation\")[\"driver_gender\"].value_counts()\n",
    "dataGroupby"
   ]
  },
  {
   "cell_type": "markdown",
   "id": "22ab9c7b",
   "metadata": {},
   "source": [
    "#### Analysis & Interpretation\n",
    "Results of the calculation above show there is evidence that:\n",
    "* 8420 equipment violations were committed by male and 2501 equipment violations were committed by female\n",
    "* 12938 moving violations were committed by male and 3286 violations were committed by female\n",
    "* 3702 the other violations were committed by male and 707 violations were committed by female\n",
    "* 2647 registration/plates violations were committed by male and 1056 violations were committed by female\n",
    "* 2278 seat belt violations were committed by male and 578 violations were committed by female\n",
    "* 32777 Speeding violations were committed by male and 15646 violations were committed by female\n",
    "  "
   ]
  },
  {
   "cell_type": "code",
   "execution_count": 47,
   "id": "7e29755c",
   "metadata": {},
   "outputs": [
    {
     "data": {
      "image/png": "[encoded data removed]",
      "text/plain": [
       "<Figure size 640x480 with 1 Axes>"
      ]
     },
     "metadata": {},
     "output_type": "display_data"
    }
   ],
   "source": [
    "# Ploting vizualization genders commitment to different violations\n",
    "#plt.figure(figsize = (6,8))\n",
    "violations_by_sex = data1.groupby(\"violation\")[\"driver_gender\"].value_counts().unstack()\n",
    "violations_by_sex.plot(kind= \"bar\", title = \"Different violations by gender\", color = [\"Red\", \"Blue\"], width = 0.9)\n",
    "plt.legend([\"Female\", \"Male\"])\n",
    "plt.xlabel(\"Violation Type\")\n",
    "plt.ylabel(\"Violation Count\")\n",
    "plt.show()"
   ]
  },
  {
   "cell_type": "markdown",
   "id": "a672c3c9",
   "metadata": {},
   "source": [
    "#### Summary & Conclusion\n",
    "Based on the statistical analysis and observation research in order to calculate how many different violations were committed by different gender:\n",
    "Therefore we conclude that there is significant evidence that gender affects different violations, which appears that males commit more violations in every violation category than females."
   ]
  },
  {
   "cell_type": "markdown",
   "id": "25ddf2cd",
   "metadata": {},
   "source": [
    "#### Question 2 . Does gender affect who gets a ticket for speeding? In other words who does get more speeding tickets female or male?"
   ]
  },
  {
   "cell_type": "code",
   "execution_count": 44,
   "id": "a2c40018",
   "metadata": {},
   "outputs": [],
   "source": [
    "data = police[[\"driver_gender\", \"violation\"]]"
   ]
  },
  {
   "cell_type": "code",
   "execution_count": 5,
   "id": "c1bd6825",
   "metadata": {},
   "outputs": [],
   "source": [
    "# Select speeding row for male and female\n",
    "speeding = data.loc[data[\"violation\"] == \"Speeding\"]"
   ]
  },
  {
   "cell_type": "code",
   "execution_count": 6,
   "id": "318afd48",
   "metadata": {},
   "outputs": [],
   "source": [
    "# Selecting rows for female speeding\n",
    "dataF = data.loc[data[\"driver_gender\"] == \"F\"]\n",
    "speedingF = dataF.loc[dataF[\"violation\"] == \"Speeding\"]"
   ]
  },
  {
   "cell_type": "code",
   "execution_count": 7,
   "id": "1ba41a52",
   "metadata": {},
   "outputs": [],
   "source": [
    "# Selecting rows for male speeding\n",
    "dataM = data.loc[data[\"driver_gender\"] == \"M\"]\n",
    "speedingM = dataM.loc[dataM[\"violation\"] == \"Speeding\"]"
   ]
  },
  {
   "cell_type": "code",
   "execution_count": 8,
   "id": "f89f6096",
   "metadata": {},
   "outputs": [
    {
     "data": {
      "text/plain": [
       "driver_gender    48423\n",
       "violation        48424\n",
       "dtype: int64"
      ]
     },
     "execution_count": 8,
     "metadata": {},
     "output_type": "execute_result"
    }
   ],
   "source": [
    "# Count total speeding viol\n",
    "count_speeding = speeding.count()\n",
    "count_speeding"
   ]
  },
  {
   "cell_type": "code",
   "execution_count": 9,
   "id": "bebca9b6",
   "metadata": {},
   "outputs": [
    {
     "data": {
      "text/plain": [
       "driver_gender    15646\n",
       "violation        15646\n",
       "dtype: int64"
      ]
     },
     "execution_count": 9,
     "metadata": {},
     "output_type": "execute_result"
    }
   ],
   "source": [
    "# Count female speeding\n",
    "count_speedingF = speedingF.count()\n",
    "count_speedingF"
   ]
  },
  {
   "cell_type": "code",
   "execution_count": 10,
   "id": "d8e267ea",
   "metadata": {},
   "outputs": [
    {
     "data": {
      "text/plain": [
       "driver_gender    32777\n",
       "violation        32777\n",
       "dtype: int64"
      ]
     },
     "execution_count": 10,
     "metadata": {},
     "output_type": "execute_result"
    }
   ],
   "source": [
    "# Count male speeding\n",
    "count_speedingM = speedingM.count()\n",
    "count_speedingM"
   ]
  },
  {
   "cell_type": "code",
   "execution_count": 11,
   "id": "d6c9bae3",
   "metadata": {},
   "outputs": [
    {
     "data": {
      "text/plain": [
       "driver_gender    17131\n",
       "violation        17131\n",
       "dtype: int64"
      ]
     },
     "execution_count": 11,
     "metadata": {},
     "output_type": "execute_result"
    }
   ],
   "source": [
    "# Count difference of tickets male vs female\n",
    "diff = count_speedingM - count_speedingF\n",
    "diff"
   ]
  },
  {
   "cell_type": "code",
   "execution_count": 84,
   "id": "aaee14df",
   "metadata": {},
   "outputs": [
    {
     "data": {
      "text/plain": [
       "driver_gender    32.31\n",
       "violation        32.31\n",
       "dtype: float64"
      ]
     },
     "execution_count": 84,
     "metadata": {},
     "output_type": "execute_result"
    }
   ],
   "source": [
    "# Probability for female\n",
    "probabF = round((count_speedingF/count_speeding) * 100, 2)\n",
    "probabF"
   ]
  },
  {
   "cell_type": "code",
   "execution_count": 85,
   "id": "554a63ae",
   "metadata": {},
   "outputs": [
    {
     "data": {
      "text/plain": [
       "driver_gender    67.69\n",
       "violation        67.69\n",
       "dtype: float64"
      ]
     },
     "execution_count": 85,
     "metadata": {},
     "output_type": "execute_result"
    }
   ],
   "source": [
    "# Probability for male\n",
    "probabM = round((count_speedingM/count_speeding) * 100, 2)\n",
    "probabM"
   ]
  },
  {
   "cell_type": "markdown",
   "id": "7436d717",
   "metadata": {},
   "source": [
    "#### Analysis & Interpretation\n",
    "Results of the calculation above show there is evidence that:\n",
    "* Probability that a person who is female got a speeding ticket is 32.31 % and a male gets a speeding ticket is 67.69%.\n",
    "* Out of 48423 speeding violations, 15646 tickets were given to female drivers, and 32777 tickets were given to male drivers."
   ]
  },
  {
   "cell_type": "code",
   "execution_count": 93,
   "id": "eeabfb51",
   "metadata": {},
   "outputs": [
    {
     "data": {
      "text/plain": [
       "M    32777\n",
       "F    15646\n",
       "Name: driver_gender, dtype: int64"
      ]
     },
     "execution_count": 93,
     "metadata": {},
     "output_type": "execute_result"
    }
   ],
   "source": [
    "# Vizualization tickets count\n",
    "speeding = police[police[\"violation\"] == \"Speeding\"].driver_gender.value_counts()\n",
    "speeding"
   ]
  },
  {
   "cell_type": "code",
   "execution_count": 92,
   "id": "65f8cc7f",
   "metadata": {},
   "outputs": [
    {
     "data": {
      "image/png": "[encoded data removed]",
      "text/plain": [
       "<Figure size 640x480 with 1 Axes>"
      ]
     },
     "metadata": {},
     "output_type": "display_data"
    }
   ],
   "source": [
    "# Vizualization \n",
    "speeding = police[police[\"violation\"] == \"Speeding\"].driver_gender.value_counts()\n",
    "speeding.plot(kind =\"bar\", color = \"Blue\", title = \"Who Receives More Speeding Tickets by Gender\")\n",
    "plt.xlabel(\"Gender\")\n",
    "plt.ylabel(\"Speeding tickets\")\n",
    "plt.show()"
   ]
  },
  {
   "cell_type": "markdown",
   "id": "1c8eeed9",
   "metadata": {},
   "source": [
    "#### Summary & Conclusion\n",
    "Based on the statistical analysis and observation research in order to calculate the probability that gender affect who gets a ticket for speeding:\n",
    "* Females got speeding tickets 32.31 % and males get speeding tickets 67.69%.\n",
    "\n",
    "Therefore we conclude that there is significant evidence that gender affects who receives speeding tickets, that appears that male gets 17131 tickets more speeding tickets than female."
   ]
  },
  {
   "cell_type": "markdown",
   "id": "6784d586",
   "metadata": {},
   "source": [
    "#### Question3. Does gender affect whose vehicle is searched? In other words whose vehicle gets more commonly get searched, male or female?"
   ]
  },
  {
   "cell_type": "code",
   "execution_count": 12,
   "id": "2fcf029c",
   "metadata": {},
   "outputs": [],
   "source": [
    "# Select a new dataFrame\n",
    "data3 = police[[\"driver_gender\", \"search_conducted\"]]"
   ]
  },
  {
   "cell_type": "code",
   "execution_count": 13,
   "id": "20a651d0",
   "metadata": {},
   "outputs": [
    {
     "data": {
      "text/plain": [
       "91741"
      ]
     },
     "execution_count": 13,
     "metadata": {},
     "output_type": "execute_result"
    }
   ],
   "source": [
    "# Count total search \n",
    "totalSearch = police[\"search_conducted\"].count()\n",
    "totalSearch"
   ]
  },
  {
   "cell_type": "code",
   "execution_count": 14,
   "id": "83767785",
   "metadata": {},
   "outputs": [
    {
     "data": {
      "text/plain": [
       "search_conducted\n",
       "False    83229\n",
       "True      3307\n",
       "Name: driver_gender, dtype: int64"
      ]
     },
     "execution_count": 14,
     "metadata": {},
     "output_type": "execute_result"
    }
   ],
   "source": [
    "# General count outcome whose been search\n",
    "dataSumSearch = data3.groupby(\"search_conducted\")[\"driver_gender\"].count()\n",
    "dataSumSearch"
   ]
  },
  {
   "cell_type": "code",
   "execution_count": 15,
   "id": "e0a674d9",
   "metadata": {},
   "outputs": [
    {
     "data": {
      "text/plain": [
       "search_conducted  driver_gender\n",
       "False             M                59911\n",
       "                  F                23318\n",
       "True              M                 2851\n",
       "                  F                  456\n",
       "Name: driver_gender, dtype: int64"
      ]
     },
     "execution_count": 15,
     "metadata": {},
     "output_type": "execute_result"
    }
   ],
   "source": [
    "# General count outcome whose been search by genred\n",
    "dataGroupSearch = data3.groupby(\"search_conducted\")[\"driver_gender\"].value_counts()\n",
    "dataGroupSearch"
   ]
  },
  {
   "cell_type": "markdown",
   "id": "cf779236",
   "metadata": {},
   "source": [
    "#### Analysis & Interpretation\n",
    "Results of the calculation above show there is evidence that:\n",
    "* Out of 91741 violations, 3307 vehicles have been searched, 83229 have not been searched. \n",
    "* 2851 male drivers' vehicles have been searched, and 456 female drivers' vehicles have been searched.\n",
    "* 59911 male drivers' vehicles have not been searched, and 23318 female drivers' vehicles have not been searched."
   ]
  },
  {
   "cell_type": "markdown",
   "id": "9ce29e12",
   "metadata": {},
   "source": [
    "#### Probability whose vehicle gets more commonly searched male or female?"
   ]
  },
  {
   "cell_type": "code",
   "execution_count": 16,
   "id": "7506ad15",
   "metadata": {},
   "outputs": [],
   "source": [
    "# Select row any gender vehicles have been searched\n",
    "totalS = data3.loc[data3[\"search_conducted\"] == True]"
   ]
  },
  {
   "cell_type": "code",
   "execution_count": 17,
   "id": "2287b1f5",
   "metadata": {},
   "outputs": [],
   "source": [
    "#Selecting rows for male\n",
    "data3M = data3.loc[data3[\"driver_gender\"] == \"M\"]"
   ]
  },
  {
   "cell_type": "code",
   "execution_count": 18,
   "id": "6e7db420",
   "metadata": {},
   "outputs": [],
   "source": [
    "# Selecting for male vehicles search\n",
    "data3M_NS = data3M.loc[data3M[\"search_conducted\"] == False]\n",
    "data3M_YS = data3M.loc[data3M[\"search_conducted\"] == True]"
   ]
  },
  {
   "cell_type": "code",
   "execution_count": 19,
   "id": "5601c988",
   "metadata": {},
   "outputs": [],
   "source": [
    "#Selecting rows for female\n",
    "data3F = data3.loc[data3[\"driver_gender\"] == \"F\"]"
   ]
  },
  {
   "cell_type": "code",
   "execution_count": 20,
   "id": "5e4d3900",
   "metadata": {},
   "outputs": [],
   "source": [
    "# Selecting for female vehicles searched\n",
    "data3F_NS = data3F.loc[data3F[\"search_conducted\"] == False]\n",
    "data3F_YS = data3F.loc[data3F[\"search_conducted\"] == True]"
   ]
  },
  {
   "cell_type": "code",
   "execution_count": 21,
   "id": "7b44848a",
   "metadata": {},
   "outputs": [
    {
     "data": {
      "text/plain": [
       "driver_gender       3307\n",
       "search_conducted    3307\n",
       "dtype: int64"
      ]
     },
     "execution_count": 21,
     "metadata": {},
     "output_type": "execute_result"
    }
   ],
   "source": [
    "# Count any gender vehicles have been searched\n",
    "countTotalS = totalS.count()\n",
    "countTotalS"
   ]
  },
  {
   "cell_type": "code",
   "execution_count": 22,
   "id": "e8cac3ac",
   "metadata": {},
   "outputs": [
    {
     "data": {
      "text/plain": [
       "driver_gender       2851\n",
       "search_conducted    2851\n",
       "dtype: int64"
      ]
     },
     "execution_count": 22,
     "metadata": {},
     "output_type": "execute_result"
    }
   ],
   "source": [
    "# Count male vehicles have been searched\n",
    "count_data3M_YS = data3M_YS.count()\n",
    "count_data3M_YS"
   ]
  },
  {
   "cell_type": "code",
   "execution_count": 23,
   "id": "5c0e5e17",
   "metadata": {
    "scrolled": true
   },
   "outputs": [
    {
     "data": {
      "text/plain": [
       "driver_gender       456\n",
       "search_conducted    456\n",
       "dtype: int64"
      ]
     },
     "execution_count": 23,
     "metadata": {},
     "output_type": "execute_result"
    }
   ],
   "source": [
    "# Count female vehicles have been searched\n",
    "count_data3F_YS = data3F_YS.count()\n",
    "count_data3F_YS"
   ]
  },
  {
   "cell_type": "code",
   "execution_count": 26,
   "id": "0b728cc2",
   "metadata": {},
   "outputs": [
    {
     "data": {
      "text/plain": [
       "driver_gender       2395\n",
       "search_conducted    2395\n",
       "dtype: int64"
      ]
     },
     "execution_count": 26,
     "metadata": {},
     "output_type": "execute_result"
    }
   ],
   "source": [
    "# Count difference male vehicles have been searched vs female\n",
    "diff_count_search = count_data3M_YS - count_data3F_YS\n",
    "diff_count_search"
   ]
  },
  {
   "cell_type": "code",
   "execution_count": 24,
   "id": "0f0a91a0",
   "metadata": {},
   "outputs": [
    {
     "data": {
      "text/plain": [
       "driver_gender       86.21\n",
       "search_conducted    86.21\n",
       "dtype: float64"
      ]
     },
     "execution_count": 24,
     "metadata": {},
     "output_type": "execute_result"
    }
   ],
   "source": [
    "# Probability male vehicles have been searched\n",
    "SearchProbabMale = round((count_data3M_YS/countTotalS) * 100, 2)\n",
    "SearchProbabMale"
   ]
  },
  {
   "cell_type": "code",
   "execution_count": 25,
   "id": "2910193f",
   "metadata": {},
   "outputs": [
    {
     "data": {
      "text/plain": [
       "driver_gender       13.79\n",
       "search_conducted    13.79\n",
       "dtype: float64"
      ]
     },
     "execution_count": 25,
     "metadata": {},
     "output_type": "execute_result"
    }
   ],
   "source": [
    "# Probability female vehicles have been searched\n",
    "SearchProbabFemale = round((count_data3F_YS/countTotalS) * 100, 2)\n",
    "SearchProbabFemale"
   ]
  },
  {
   "cell_type": "markdown",
   "id": "1c808f06",
   "metadata": {},
   "source": [
    "#### Analysis & Interpretation\n",
    "Results of the calculation above show there is evidence that:\n",
    "* Probability male vehicles get searched is 86.21% compared female vehicles get searched is 13.79%. "
   ]
  },
  {
   "cell_type": "code",
   "execution_count": 80,
   "id": "3c01fdcb",
   "metadata": {},
   "outputs": [
    {
     "data": {
      "text/plain": [
       "M    2851\n",
       "F     456\n",
       "Name: driver_gender, dtype: int64"
      ]
     },
     "execution_count": 80,
     "metadata": {},
     "output_type": "execute_result"
    }
   ],
   "source": [
    "# Vizualization count\n",
    "search = police[police[\"search_conducted\"] == True].driver_gender.value_counts()\n",
    "search"
   ]
  },
  {
   "cell_type": "code",
   "execution_count": 103,
   "id": "5d43d3fa",
   "metadata": {},
   "outputs": [
    {
     "data": {
      "image/png": "[encoded data removed]",
      "text/plain": [
       "<Figure size 640x480 with 1 Axes>"
      ]
     },
     "metadata": {},
     "output_type": "display_data"
    }
   ],
   "source": [
    "# Vizualization\n",
    "search = police[police[\"search_conducted\"] == True].driver_gender.value_counts()\n",
    "search.plot(kind =\"bar\", color = \"Blue\", title = \"Vehicle searched have been searched by driver gender\")\n",
    "plt.xlabel(\"Gender\")\n",
    "plt.ylabel(\"Search Accured\")\n",
    "plt.show()"
   ]
  },
  {
   "cell_type": "markdown",
   "id": "23521779",
   "metadata": {},
   "source": [
    "#### Summary & Conclusion\n",
    "Based on the statistical analysis and observation research in order to calculate whose vehicle gets more commonly searched male or female:\n",
    "* There is strong evidence that male vehicles have been searched 86.21% while female vehicles get searched is 13.79%.\n",
    "* There is strong evidence that 2851 male drivers' vehicles have been searched, and 456 female drivers' vehicles have been searched.\n",
    "* There is strong evidence that 59911 male drivers' vehicles have not been searched, and 23318 female drivers' vehicles have not been searched.\n",
    "\n",
    "Therefore we conclude that there is significant evidence that male vehicle gets more commonly searched than females."
   ]
  },
  {
   "cell_type": "markdown",
   "id": "2afb3ab9",
   "metadata": {},
   "source": [
    "#### Question 4. Does gender affect whose vehicle was being stopped related to drugs? What is the Probability whose vehicle was being stopped related to drugs?"
   ]
  },
  {
   "cell_type": "code",
   "execution_count": 28,
   "id": "506b8df4",
   "metadata": {},
   "outputs": [],
   "source": [
    "# Select a new dataFrame\n",
    "data4 = police[[\"driver_gender\", \"drugs_related_stop\"]]"
   ]
  },
  {
   "cell_type": "code",
   "execution_count": 29,
   "id": "b6e2b3f0",
   "metadata": {},
   "outputs": [
    {
     "data": {
      "text/plain": [
       "91741"
      ]
     },
     "execution_count": 29,
     "metadata": {},
     "output_type": "execute_result"
    }
   ],
   "source": [
    "# Count total stops\n",
    "totalStop = data4[\"drugs_related_stop\"].count()\n",
    "totalStop"
   ]
  },
  {
   "cell_type": "code",
   "execution_count": 30,
   "id": "d1489ec4",
   "metadata": {},
   "outputs": [
    {
     "data": {
      "text/plain": [
       "drugs_related_stop\n",
       "False    85674\n",
       "True       862\n",
       "Name: driver_gender, dtype: int64"
      ]
     },
     "execution_count": 30,
     "metadata": {},
     "output_type": "execute_result"
    }
   ],
   "source": [
    "# General count outcome whose been stoped drug related\n",
    "dataDrugStop = data4.groupby(\"drugs_related_stop\")[\"driver_gender\"].count()\n",
    "dataDrugStop"
   ]
  },
  {
   "cell_type": "code",
   "execution_count": 31,
   "id": "d587f1a2",
   "metadata": {},
   "outputs": [
    {
     "data": {
      "text/plain": [
       "drugs_related_stop  driver_gender\n",
       "False               M                62007\n",
       "                    F                23667\n",
       "True                M                  755\n",
       "                    F                  107\n",
       "Name: driver_gender, dtype: int64"
      ]
     },
     "execution_count": 31,
     "metadata": {},
     "output_type": "execute_result"
    }
   ],
   "source": [
    "#General count outcome whose been stoped drug related by gender\n",
    "dataStopDrugByGender = data4.groupby(\"drugs_related_stop\")[\"driver_gender\"].value_counts()\n",
    "dataStopDrugByGender"
   ]
  },
  {
   "cell_type": "markdown",
   "id": "db895d15",
   "metadata": {},
   "source": [
    "#### Analysis & Interpretation\n",
    "Results of the calculation above show there is evidence that:\n",
    "* Out of 91741 total drives, 862 vehicles have been stopped drug-related. \n",
    "* 755 vehicles were driven by male drives and 107 vehicles were driven by female drivers"
   ]
  },
  {
   "cell_type": "markdown",
   "id": "79011b6e",
   "metadata": {},
   "source": [
    "#### What is the Probability whose vehicle was being stopped related to drugs?¶"
   ]
  },
  {
   "cell_type": "code",
   "execution_count": 9,
   "id": "bafc835a",
   "metadata": {},
   "outputs": [],
   "source": [
    "data4 = police[[\"driver_gender\", \"drugs_related_stop\"]]"
   ]
  },
  {
   "cell_type": "code",
   "execution_count": 10,
   "id": "ce696d99",
   "metadata": {},
   "outputs": [],
   "source": [
    "# Select row any gender vehicles have been drug related stop\n",
    "totalDRS = data4.loc[data4[\"drugs_related_stop\"] == True]"
   ]
  },
  {
   "cell_type": "code",
   "execution_count": 11,
   "id": "723411fe",
   "metadata": {},
   "outputs": [],
   "source": [
    "#Selecting rows for male and female in new dataFrame\n",
    "data4M = data4.loc[data4[\"driver_gender\"] == \"M\"]\n",
    "data4F = data4.loc[data4[\"driver_gender\"] == \"F\"]"
   ]
  },
  {
   "cell_type": "code",
   "execution_count": 12,
   "id": "e761e3c4",
   "metadata": {},
   "outputs": [],
   "source": [
    "# Selecting for whose vehicles were being drug related stopped for each gender\n",
    "data4MDS = data4M.loc[data4M[\"drugs_related_stop\"] == True]\n",
    "data4FDS = data4F.loc[data4F[\"drugs_related_stop\"] == True]"
   ]
  },
  {
   "cell_type": "code",
   "execution_count": 13,
   "id": "096e10e7",
   "metadata": {},
   "outputs": [
    {
     "data": {
      "text/plain": [
       "driver_gender         862\n",
       "drugs_related_stop    862\n",
       "dtype: int64"
      ]
     },
     "execution_count": 13,
     "metadata": {},
     "output_type": "execute_result"
    }
   ],
   "source": [
    "# Count total drug related stops for both genders\n",
    "countTotalDRS = totalDRS.count()\n",
    "countTotalDRS"
   ]
  },
  {
   "cell_type": "code",
   "execution_count": 14,
   "id": "bb1a3c67",
   "metadata": {},
   "outputs": [
    {
     "data": {
      "text/plain": [
       "driver_gender         755\n",
       "drugs_related_stop    755\n",
       "dtype: int64"
      ]
     },
     "execution_count": 14,
     "metadata": {},
     "output_type": "execute_result"
    }
   ],
   "source": [
    "# Count total drug related stops for male\n",
    "countData4MDS = data4MDS.count()\n",
    "countData4MDS"
   ]
  },
  {
   "cell_type": "code",
   "execution_count": 15,
   "id": "1427d23f",
   "metadata": {},
   "outputs": [
    {
     "data": {
      "text/plain": [
       "driver_gender         107\n",
       "drugs_related_stop    107\n",
       "dtype: int64"
      ]
     },
     "execution_count": 15,
     "metadata": {},
     "output_type": "execute_result"
    }
   ],
   "source": [
    "# Count total drug related stops for female\n",
    "countData4FDS = data4FDS.count()\n",
    "countData4FDS"
   ]
  },
  {
   "cell_type": "code",
   "execution_count": 16,
   "id": "751b2d7a",
   "metadata": {},
   "outputs": [
    {
     "data": {
      "text/plain": [
       "driver_gender         648\n",
       "drugs_related_stop    648\n",
       "dtype: int64"
      ]
     },
     "execution_count": 16,
     "metadata": {},
     "output_type": "execute_result"
    }
   ],
   "source": [
    "# Count difference drug related stops for male vs female\n",
    "diff_count_DRS = countData4MDS - countData4FDS\n",
    "diff_count_DRS"
   ]
  },
  {
   "cell_type": "code",
   "execution_count": 17,
   "id": "e43d4700",
   "metadata": {},
   "outputs": [
    {
     "data": {
      "text/plain": [
       "driver_gender         87.59\n",
       "drugs_related_stop    87.59\n",
       "dtype: float64"
      ]
     },
     "execution_count": 17,
     "metadata": {},
     "output_type": "execute_result"
    }
   ],
   "source": [
    "# Probability drug related stops for male drives\n",
    "ProbabDrugRelStopM = round((countData4MDS/countTotalDRS) * 100, 2)\n",
    "ProbabDrugRelStopM"
   ]
  },
  {
   "cell_type": "code",
   "execution_count": 18,
   "id": "475e5e56",
   "metadata": {},
   "outputs": [
    {
     "data": {
      "text/plain": [
       "driver_gender         12.41\n",
       "drugs_related_stop    12.41\n",
       "dtype: float64"
      ]
     },
     "execution_count": 18,
     "metadata": {},
     "output_type": "execute_result"
    }
   ],
   "source": [
    "# Probability drug related stops for female drivers\n",
    "ProbabDrugRelStopF = round((countData4FDS/countTotalDRS) * 100, 2)\n",
    "ProbabDrugRelStopF"
   ]
  },
  {
   "cell_type": "markdown",
   "id": "9fbc44cd",
   "metadata": {},
   "source": [
    "#### Analysis & Interpretation\n",
    "Results of the calculation above show there is evidence that:\n",
    "* There is 87.59% Probability that vehicles have been stopped drug-related if driver is male. \n",
    "* There is 12.41% Probability that vehicles have been stopped drug-related if driver is female."
   ]
  },
  {
   "cell_type": "code",
   "execution_count": 19,
   "id": "4b69c7e4",
   "metadata": {},
   "outputs": [
    {
     "data": {
      "text/plain": [
       "M    755\n",
       "F    107\n",
       "Name: driver_gender, dtype: int64"
      ]
     },
     "execution_count": 19,
     "metadata": {},
     "output_type": "execute_result"
    }
   ],
   "source": [
    "# Vizualization count numbers\n",
    "drug_stop = police[police[\"drugs_related_stop\"] == True].driver_gender.value_counts()\n",
    "drug_stop"
   ]
  },
  {
   "cell_type": "code",
   "execution_count": 20,
   "id": "ef6ccaed",
   "metadata": {},
   "outputs": [
    {
     "data": {
      "image/png": "[encoded data removed]",
      "text/plain": [
       "<Figure size 640x480 with 1 Axes>"
      ]
     },
     "metadata": {},
     "output_type": "display_data"
    }
   ],
   "source": [
    "# Vizualization\n",
    "drug_stop = police[police[\"drugs_related_stop\"] == True].driver_gender.value_counts()\n",
    "drug_stop.plot(kind =\"bar\", color = \"Blue\", title = \"Vehicles being Stopped Drug-related By Gender\")\n",
    "plt.xlabel(\"Gender\")\n",
    "plt.ylabel(\"Drug-Related Stops\")\n",
    "plt.show()"
   ]
  },
  {
   "cell_type": "markdown",
   "id": "6b57e57a",
   "metadata": {},
   "source": [
    "#### Summary & Conclusion\n",
    "Based on the statistical analysis and observation research in order to calculate whose vehicle gets more commonly stopped drug related male or female:\n",
    "* There is strong evidence that vehicles have been stopped drug related 87.59% for male drivers and 12.41% for female drivers. \n",
    "\n",
    "Therefore we conclude that there is significant evidence that male vehicle gets more commonly drug related stopped than females."
   ]
  },
  {
   "cell_type": "markdown",
   "id": "f220d570",
   "metadata": {},
   "source": [
    "####  Question 5. Distributions of overall stop outcomes by each year in order to see if traffic violation is increasing over the years of study, in order to see if traffic violations were increased through years of study.\n"
   ]
  },
  {
   "cell_type": "code",
   "execution_count": 3,
   "id": "d2d1a7fb",
   "metadata": {},
   "outputs": [
    {
     "data": {
      "text/plain": [
       "0       2005-01-04\n",
       "1       2005-01-23\n",
       "2       2005-02-17\n",
       "3       2005-02-20\n",
       "4       2005-02-24\n",
       "           ...    \n",
       "91736   2015-12-31\n",
       "91737   2015-12-31\n",
       "91738   2015-12-31\n",
       "91739   2015-12-31\n",
       "91740   2015-12-31\n",
       "Name: stop_date, Length: 91741, dtype: datetime64[ns]"
      ]
     },
     "execution_count": 3,
     "metadata": {},
     "output_type": "execute_result"
    }
   ],
   "source": [
    "pd.to_datetime(police[\"stop_date\" ])"
   ]
  },
  {
   "cell_type": "code",
   "execution_count": 4,
   "id": "8f078f8e",
   "metadata": {},
   "outputs": [],
   "source": [
    "# Changing column stop_date from object to datetime variables in dataFrame\n",
    "police[\"stop_date\"] = pd.to_datetime(police[\"stop_date\" ])"
   ]
  },
  {
   "cell_type": "code",
   "execution_count": 5,
   "id": "9f639a4e",
   "metadata": {},
   "outputs": [],
   "source": [
    "# Changing column stop_time from object to datetime variables in dataFrame\n",
    "police[\"stop_time\"] = pd.to_datetime(police[\"stop_time\" ])"
   ]
  },
  {
   "cell_type": "code",
   "execution_count": 6,
   "id": "cd57f557",
   "metadata": {},
   "outputs": [
    {
     "name": "stdout",
     "output_type": "stream",
     "text": [
      "<class 'pandas.core.frame.DataFrame'>\n",
      "RangeIndex: 91741 entries, 0 to 91740\n",
      "Data columns (total 15 columns):\n",
      " #   Column              Non-Null Count  Dtype         \n",
      "---  ------              --------------  -----         \n",
      " 0   state               91741 non-null  object        \n",
      " 1   stop_date           91741 non-null  datetime64[ns]\n",
      " 2   stop_time           91741 non-null  datetime64[ns]\n",
      " 3   county_name         0 non-null      float64       \n",
      " 4   driver_gender       86536 non-null  object        \n",
      " 5   driver_race         86539 non-null  object        \n",
      " 6   violation_raw       86539 non-null  object        \n",
      " 7   violation           86539 non-null  object        \n",
      " 8   search_conducted    91741 non-null  bool          \n",
      " 9   search_type         3307 non-null   object        \n",
      " 10  stop_outcome        86539 non-null  object        \n",
      " 11  is_arrested         86539 non-null  object        \n",
      " 12  stop_duration       86539 non-null  object        \n",
      " 13  drugs_related_stop  91741 non-null  bool          \n",
      " 14  district            91741 non-null  object        \n",
      "dtypes: bool(2), datetime64[ns](2), float64(1), object(10)\n",
      "memory usage: 9.3+ MB\n"
     ]
    }
   ],
   "source": [
    "# info\n",
    "police.info()"
   ]
  },
  {
   "cell_type": "code",
   "execution_count": 7,
   "id": "6c663f74",
   "metadata": {},
   "outputs": [
    {
     "data": {
      "text/plain": [
       "2012    10972\n",
       "2006    10560\n",
       "2007     9575\n",
       "2014     9036\n",
       "2008     8860\n",
       "2015     8399\n",
       "2011     8301\n",
       "2013     8060\n",
       "2009     7820\n",
       "2010     7654\n",
       "2005     2504\n",
       "Name: stop_date, dtype: int64"
      ]
     },
     "execution_count": 7,
     "metadata": {},
     "output_type": "execute_result"
    }
   ],
   "source": [
    "# Countiong violation stops count by year\n",
    "byYear = police[\"stop_date\" ].dt.year.value_counts(ascending = False)\n",
    "byYear"
   ]
  },
  {
   "cell_type": "markdown",
   "id": "2000ab54",
   "metadata": {},
   "source": [
    "#### Analysis & Interpretation\n",
    "Results of the calculation above show there is evidence that:\n",
    "* 2012 police stopped 10972 vehicles \n",
    "* in 2006 stopped 10560 vehicles \n",
    "* in 2007 stopped 9575 vehicles\n",
    "* in 2014 stopped 9036 vehicles \n",
    "* in 2008 stopped  8860 vehicles \n",
    "* in 2015 stopped 8399 vehicles \n",
    "* in 2011 stopped 8301 vehicles\n",
    "* in 2013 stopped 8060 vehicles \n",
    "* in 2009 stopped 7820 vehicles \n",
    "* in 2010 stopped 7654 vehicles\n",
    "* in 2005 2504 vehicles were stopped "
   ]
  },
  {
   "cell_type": "code",
   "execution_count": 15,
   "id": "7a94d8a9",
   "metadata": {},
   "outputs": [
    {
     "data": {
      "image/png": "[encoded data removed]",
      "text/plain": [
       "<Figure size 640x480 with 1 Axes>"
      ]
     },
     "metadata": {},
     "output_type": "display_data"
    }
   ],
   "source": [
    "# Vizualiztion stops outcomes by year\n",
    "byYear.plot(kind = \"bar\", color = \"Blue\", title = \"Stop Outcomes By Year\")\n",
    "plt.xlabel(\"Year Number\")\n",
    "plt.ylabel(\"Stop Outcome Count\")\n",
    "plt.show()"
   ]
  },
  {
   "cell_type": "markdown",
   "id": "1bf8662f",
   "metadata": {},
   "source": [
    "#### Summary & Conclusion\n",
    "Based on the statistical analysis and observation research in order to calculate distribution of overall stop outcomes by each year in order to see if traffic violation is increasing over the years of study, in order to see if traffic violations were increased through years of study.\n",
    "\n",
    "Therefore we conclude that there is significant evidence that most stops were between 10:00 – 10:59 (7402 stops), between 9:00 – 9:59 (6738 stops), and between 11:00 – 11:59 (5996 stops). Least stops were indicated between 3:00 – 3:59 (1166 stops), between 4:00 – 4:59 (290 stops), and between 5:00 – 5:59 (218 stops).  Stop time outcome (represents in military time)."
   ]
  },
  {
   "cell_type": "markdown",
   "id": "7bc3b8a0",
   "metadata": {},
   "source": [
    "#### Question 6. How the time of the day affects stop outcomes? in other words is there a specific time of the day with a high volume of traffic violations?"
   ]
  },
  {
   "cell_type": "code",
   "execution_count": 48,
   "id": "ec91b272",
   "metadata": {
    "scrolled": true
   },
   "outputs": [
    {
     "data": {
      "text/plain": [
       "10    7402\n",
       "9     6738\n",
       "11    5996\n",
       "14    5613\n",
       "23    5544\n",
       "8     5218\n",
       "0     5206\n",
       "15    5017\n",
       "13    4787\n",
       "7     4561\n",
       "1     4409\n",
       "16    3754\n",
       "12    3665\n",
       "22    3649\n",
       "20    3334\n",
       "6     3210\n",
       "2     2942\n",
       "17    2780\n",
       "19    2573\n",
       "18    2214\n",
       "21    1455\n",
       "3     1166\n",
       "4      290\n",
       "5      218\n",
       "Name: stop_time, dtype: int64"
      ]
     },
     "execution_count": 48,
     "metadata": {},
     "output_type": "execute_result"
    }
   ],
   "source": [
    "# Most common stop time\n",
    "byTime = police[\"stop_time\"].dt.hour.value_counts(ascending = False)\n",
    "byTime"
   ]
  },
  {
   "cell_type": "markdown",
   "id": "cd4cf3bc",
   "metadata": {},
   "source": [
    "#### Analysis & Interpretation\n",
    "Results of the calculation above show there is evidence that:\n",
    "* 10:00 – 10:59\t7402 stops\n",
    "* 9:00 – 9:59\t6738 stops\n",
    "* 11:00 – 11:59\t5996 stops\n",
    "* 14:00 – 14:59\t5613 stops\n",
    "* 23:00 – 23:59\t5544 stops\n",
    "* 8:00 – 8:59\t5218 stops\n",
    "* 00:00 – 00:59\t5206 stops\n",
    "* 15:00 – 15:59\t5017 stops\n",
    "* 13:00 – 13:59\t4787 stops\n",
    "* 7:00 – 7:59\t4561 stops\n",
    "* 1:00 – 1:59\t4409 stops\n",
    "* 16:00 – 16:59\t3754 stops\n",
    "* 12:00 – 12:59\t3665 stops\n",
    "* 22:00 – 22:59\t3649 stops\n",
    "* 20:00 – 20:59\t3334 stops\n",
    "* 6:00 – 6:59\t3210 stops\n",
    "* 2:00 – 2:59\t2942 stops\n",
    "* 17:00 – 17:59\t2780 stops\n",
    "* 19:00 – 19:59\t2573 stops\n",
    "* 18:00 – 18:59\t2214 stops\n",
    "* 21:00 – 21:59\t1455 stops\n",
    "* 3:00 – 3:59\t1166 stops\n",
    "* 4:00 – 4:59\t290 stops\n",
    "* 5:00 – 5:59\t218 stops\n"
   ]
  },
  {
   "cell_type": "code",
   "execution_count": 49,
   "id": "251f4b83",
   "metadata": {
    "scrolled": true
   },
   "outputs": [
    {
     "data": {
      "image/png": "[encoded data removed]",
      "text/plain": [
       "<Figure size 640x480 with 1 Axes>"
      ]
     },
     "metadata": {},
     "output_type": "display_data"
    }
   ],
   "source": [
    "# Vizualization most common stop time\n",
    "byTime.plot(kind = \"bar\", color = \"Blue\", title = \"Stop Outcomes By Time of The Day\")\n",
    "plt.xlabel(\"Time Of the Day\")\n",
    "plt.ylabel(\"Stop Outcomes Count\")\n",
    "plt.show()"
   ]
  },
  {
   "cell_type": "markdown",
   "id": "b2fd819b",
   "metadata": {},
   "source": [
    "#### Summary & Conclusion\n",
    "Based on the statistical analysis and observation research in order to calculate how the time of the day affects stop outcomes? in other words is there a specific time of the day with a high volume of traffic violations?\n",
    "\n",
    "Based on the statistical analysis and observation research in order to calculate and summarize stop outcomes by the time, and how the time of the day affects stop outcomes, we received results that most stops were between 10:00 – 10:59 (7402 stops), between 9:00 – 9:59 (6738 stops), and between 11:00 – 11:59 (5996 stops). Least stops were indicated between 3:00 – 3:59 (1166 stops), between 4:00 – 4:59 (290 stops), and between 5:00 – 5:59 (218 stops).  Figure 2.5 shows overall summary stop time outcome (represents in military time).\n",
    "Based on the received numbers, there is significant evidence to conclude that the highest number of all drives were stopped between 9:00 – 11:59 am and the lowest number of drives were stopped between 3:00 – 5:59 am. We also can conclude that drivers commit more traffic violations in the morning time and fewer violations in the nighttime. \n"
   ]
  },
  {
   "cell_type": "markdown",
   "id": "ce832137",
   "metadata": {},
   "source": [
    "#### Question 7. How does the day of the week affects stop outcomes, in other words on which day of the week do drives commit more traffic violation; "
   ]
  },
  {
   "cell_type": "code",
   "execution_count": 20,
   "id": "89239522",
   "metadata": {
    "scrolled": true
   },
   "outputs": [
    {
     "data": {
      "text/plain": [
       "5    14189\n",
       "6    13357\n",
       "0    13193\n",
       "4    12998\n",
       "1    12835\n",
       "2    12624\n",
       "3    12545\n",
       "Name: stop_date, dtype: int64"
      ]
     },
     "execution_count": 20,
     "metadata": {},
     "output_type": "execute_result"
    }
   ],
   "source": [
    "# common stops by day of the week: \n",
    "# Monday = 0, Tuesday = 1, Wednesday = 2, Thursday = 3, Friday = 4\n",
    "# Saturday = 5, Sunday = 6\n",
    "byDayOfWeek =  police[\"stop_date\"].dt.dayofweek.value_counts(ascending = False)\n",
    "byDayOfWeek"
   ]
  },
  {
   "cell_type": "markdown",
   "id": "a5f68027",
   "metadata": {},
   "source": [
    "#### Analysis & Interpretation\n",
    "Results of the calculation above show there is evidence that:\n",
    "* Saturday 14189 vehicles \n",
    "* on Sunday 13357 vehicles \n",
    "* on Monday 13193 vehicles\n",
    "* on Friday 12998\n",
    "* on Tuesday 12835\n",
    "* on Wednesday 12624 \n",
    "* on Thursday 12545 vehicles"
   ]
  },
  {
   "cell_type": "code",
   "execution_count": 26,
   "id": "921bcf81",
   "metadata": {},
   "outputs": [
    {
     "data": {
      "image/png": "[encoded data removed]",
      "text/plain": [
       "<Figure size 640x480 with 1 Axes>"
      ]
     },
     "metadata": {},
     "output_type": "display_data"
    }
   ],
   "source": [
    "# Vizualization of common stops by day of the week: \n",
    "# Monday = 0, Tuesday = 1, Wednesday = 2, Thursday = 3, Friday = 4\n",
    "# Saturday = 5, Sunday = 6\n",
    "byDayOfWeek.plot(kind = \"bar\", color = \"Blue\", title = \"Most Common Day Of the Week for Traffic Stop\")\n",
    "plt.xlabel(\"Day Of The Week\")\n",
    "plt.ylabel(\"Stop Outcomes Count\")\n",
    "plt.show()"
   ]
  },
  {
   "cell_type": "markdown",
   "id": "48a06f51",
   "metadata": {},
   "source": [
    "#### Summary & Conclusion\n",
    "Based on the statistical analysis and observation research in order to calculate how does the day of the week affects stop outcomes, in other words on which day of the week do drives commit more traffic violation.\n",
    "\n",
    "Therefore we conclude that there is significant evidence based on the received numbers that day of the week affect stop outcomes because the highest number of all drives were stopped on Saturday and Sunday and least stopped occurred on Wednesday and Thursday. "
   ]
  },
  {
   "cell_type": "markdown",
   "id": "8d6f398a",
   "metadata": {},
   "source": [
    "#### Question 8. Distribution of stop outcomes by month of the year by summarizing total outcome by each month of each year"
   ]
  },
  {
   "cell_type": "code",
   "execution_count": 12,
   "id": "78e05857",
   "metadata": {},
   "outputs": [
    {
     "data": {
      "text/plain": [
       "1     8387\n",
       "11    8008\n",
       "5     7881\n",
       "3     7755\n",
       "10    7751\n",
       "7     7658\n",
       "8     7614\n",
       "9     7611\n",
       "6     7570\n",
       "4     7405\n",
       "12    7109\n",
       "2     6992\n",
       "Name: stop_date, dtype: int64"
      ]
     },
     "execution_count": 12,
     "metadata": {},
     "output_type": "execute_result"
    }
   ],
   "source": [
    "# Stop outcomes count by month\n",
    "byMonth = police[\"stop_date\"].dt.month.value_counts(ascending = False)\n",
    "byMonth"
   ]
  },
  {
   "cell_type": "markdown",
   "id": "eaba1c2e",
   "metadata": {},
   "source": [
    "#### Analysis & Interpretation\n",
    "Results of the calculation above show there is evidence that:\n",
    "* in January were 8387 stop outcomes \n",
    "* in November were 8008 stop outcomes \n",
    "* in May were 7881 stop outcomes\n",
    "* in March were 7755 stop outcomes \n",
    "* in October were 7751 stop outcomes \n",
    "* in July 7658 stop outcomes\n",
    "* in August were 7614 stop outcomes \n",
    "* in September were 7611 stop outcomes \n",
    "* in June were 7570 stop outcomes \n",
    "* in April were 7405 stop outcomes\n",
    "* in December were 7109 stop outcomes\n",
    "* in February were 6992 stop outcomes"
   ]
  },
  {
   "cell_type": "code",
   "execution_count": 14,
   "id": "9765ae53",
   "metadata": {},
   "outputs": [
    {
     "data": {
      "image/png": "[encoded data removed]",
      "text/plain": [
       "<Figure size 640x480 with 1 Axes>"
      ]
     },
     "metadata": {},
     "output_type": "display_data"
    }
   ],
   "source": [
    "# Vizualization of stop outcomes by month\n",
    "byMonth.plot(kind = \"bar\", color = \"Blue\", title = \"Stop Outcomes By Month\")\n",
    "plt.xlabel(\"Month Number\")\n",
    "plt.ylabel(\"Stop Outcomes Count\")\n",
    "plt.show()"
   ]
  },
  {
   "cell_type": "code",
   "execution_count": 39,
   "id": "ab94af67",
   "metadata": {
    "scrolled": false
   },
   "outputs": [
    {
     "data": {
      "text/plain": [
       "1     8387\n",
       "11    8008\n",
       "5     7881\n",
       "Name: stop_date, dtype: int64"
      ]
     },
     "execution_count": 39,
     "metadata": {},
     "output_type": "execute_result"
    }
   ],
   "source": [
    "# Stop outcomes count by month top 3 \n",
    "byMonthTop3 = police[\"stop_date\"].dt.month.value_counts(ascending = False).head(3)\n",
    "byMonthTop3"
   ]
  },
  {
   "cell_type": "code",
   "execution_count": 40,
   "id": "8b2fc93a",
   "metadata": {
    "scrolled": false
   },
   "outputs": [
    {
     "data": {
      "text/plain": [
       "4     7405\n",
       "12    7109\n",
       "2     6992\n",
       "Name: stop_date, dtype: int64"
      ]
     },
     "execution_count": 40,
     "metadata": {},
     "output_type": "execute_result"
    }
   ],
   "source": [
    "# Stop outcomes count by month last 3 \n",
    "byMonthlast3 = police[\"stop_date\"].dt.month.value_counts(ascending = False).tail(3)\n",
    "byMonthlast3"
   ]
  },
  {
   "cell_type": "markdown",
   "id": "5213a0a7",
   "metadata": {},
   "source": [
    "#### Summary & Conclusion\n",
    "Based on the statistical analysis and observation research in order to calculate distribution of stop outcomes by month of the year by summarizing total outcome by each month of each year;\n",
    "\n",
    "Therefore we conclude that there is significant evidence that there is not seasonal traffic stops escalation, because the highest volume of traffic stops occurred in January (8387 stops), November (8008 stops) and May (7881 stops) and the lowest volume occurred in April (7405 stops), December (7109), and February (6992). "
   ]
  },
  {
   "cell_type": "markdown",
   "id": "26814e00",
   "metadata": {},
   "source": [
    "### End"
   ]
  }
 ],
 "metadata": {
  "kernelspec": {
   "display_name": "Python 3 (ipykernel)",
   "language": "python",
   "name": "python3"
  },
  "language_info": {
   "codemirror_mode": {
    "name": "ipython",
    "version": 3
   },
   "file_extension": ".py",
   "mimetype": "text/x-python",
   "name": "python",
   "nbconvert_exporter": "python",
   "pygments_lexer": "ipython3",
   "version": "3.11.4"
  }
 },
 "nbformat": 4,
 "nbformat_minor": 5
}
